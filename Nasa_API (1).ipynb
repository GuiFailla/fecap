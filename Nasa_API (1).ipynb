{
  "nbformat": 4,
  "nbformat_minor": 0,
  "metadata": {
    "colab": {
      "provenance": []
    },
    "kernelspec": {
      "name": "python3",
      "display_name": "Python 3"
    },
    "language_info": {
      "name": "python"
    }
  },
  "cells": [
    {
      "cell_type": "code",
      "execution_count": 1,
      "metadata": {
        "id": "mBjisdemX8mE"
      },
      "outputs": [],
      "source": [
        "import requests"
      ]
    },
    {
      "cell_type": "code",
      "source": [
        "RA = input(\"Digite o ultimo número do seu RA: \")\n",
        "print(RA)"
      ],
      "metadata": {
        "colab": {
          "base_uri": "https://localhost:8080/"
        },
        "id": "s4EDsXUFYB1k",
        "outputId": "e8df522b-560d-43f4-a127-38fa11cc48cc"
      },
      "execution_count": 2,
      "outputs": [
        {
          "output_type": "stream",
          "name": "stdout",
          "text": [
            "Digite o ultimo número do seu RA: 6\n",
            "6\n"
          ]
        }
      ]
    },
    {
      "cell_type": "code",
      "source": [
        "print(\"1-Fhaz  2-Rhaz  3-Mast  4-Chemcam  5-Mahli  6-Mardi  7-Navcam  8-Pancam  9 e 0-Minites\")\n",
        "Robo = str(input(\"De acordo com o ultimo número do seu RA, qual é o seu robo? \"))\n",
        "Robo = Robo.lower()\n",
        "print(Robo)"
      ],
      "metadata": {
        "colab": {
          "base_uri": "https://localhost:8080/"
        },
        "id": "I8-OMuNEYDgT",
        "outputId": "ee2a8678-e69f-4b4e-b02f-bdeb527a74df"
      },
      "execution_count": 3,
      "outputs": [
        {
          "output_type": "stream",
          "name": "stdout",
          "text": [
            "1-Fhaz  2-Rhaz  3-Mast  4-Chemcam  5-Mahli  6-Mardi  7-Navcam  8-Pancam  9 e 0-Minites\n",
            "De acordo com o ultimo número do seu RA, qual é o seu robo? 6\n",
            "6\n"
          ]
        }
      ]
    },
    {
      "cell_type": "code",
      "source": [
        "dia = int(input(\"Dia: \"))\n",
        "mes = int(input(\"Mês: \"))\n",
        "ano = int(input(\"Ano: \"))\n",
        "print(ano, mes, dia)"
      ],
      "metadata": {
        "colab": {
          "base_uri": "https://localhost:8080/"
        },
        "id": "DO9mgKGRYGBL",
        "outputId": "cb770dad-c146-42f8-88f7-06de64d69772"
      },
      "execution_count": 4,
      "outputs": [
        {
          "output_type": "stream",
          "name": "stdout",
          "text": [
            "Dia: 31\n",
            "Mês: 03\n",
            "Ano: 2008\n",
            "2008 3 31\n"
          ]
        }
      ]
    },
    {
      "cell_type": "code",
      "source": [
        "resposta = requests.get(f\"https://api.nasa.gov/mars-photos/api/v1/rovers/curiosity/photos?sol=1000&api_key=DEMO_KEY\")\n",
        "print(resposta)\n",
        "print(resposta.json()[\"photos\"][0][\"img_src\"])"
      ],
      "metadata": {
        "colab": {
          "base_uri": "https://localhost:8080/"
        },
        "id": "5pDJE6FkYH40",
        "outputId": "ee2d2b2f-0230-4b30-f372-694875a22cab"
      },
      "execution_count": 8,
      "outputs": [
        {
          "output_type": "stream",
          "name": "stdout",
          "text": [
            "<Response [200]>\n",
            "http://mars.jpl.nasa.gov/msl-raw-images/proj/msl/redops/ods/surface/sol/01000/opgs/edr/fcam/FLB_486265257EDR_F0481570FHAZ00323M_.JPG\n"
          ]
        }
      ]
    }
  ]
}